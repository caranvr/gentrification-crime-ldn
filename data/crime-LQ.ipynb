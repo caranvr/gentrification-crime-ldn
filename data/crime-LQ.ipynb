{
 "cells": [
  {
   "cell_type": "code",
   "execution_count": 1,
   "metadata": {},
   "outputs": [],
   "source": [
    "import pandas as pd\n",
    "import numpy as np\n",
    "import matplotlib.pyplot as plt"
   ]
  },
  {
   "cell_type": "code",
   "execution_count": 3,
   "metadata": {},
   "outputs": [],
   "source": [
    "income = pd.read_csv('https://raw.githubusercontent.com/ali-pie/casa0003gr1/main/new%20income?token=AITLPCDMUMIRVUOZMXYI5ITAT7UKC')"
   ]
  },
  {
   "cell_type": "code",
   "execution_count": 4,
   "metadata": {},
   "outputs": [],
   "source": [
    "income['pc_change_inc'] = ((income['Total_yearly_income_2018'] - income['Total_yearly_income_2008']) / income['Total_yearly_income_2008']) * 100"
   ]
  },
  {
   "cell_type": "code",
   "execution_count": 6,
   "metadata": {},
   "outputs": [],
   "source": [
    "pc_change = income[['MSOA_code', 'MSOA_name', 'Total_yearly_income_2018', 'pc_change_inc']]"
   ]
  },
  {
   "cell_type": "code",
   "execution_count": 7,
   "metadata": {},
   "outputs": [],
   "source": [
    "cols18 = ['MSOA11CD', 'Major Category', '201801', '201802', '201803', '201804', '201805', '201806', '201807', '201808', '201809',\n",
    "         '201810', '201811', '201812']"
   ]
  },
  {
   "cell_type": "code",
   "execution_count": 8,
   "metadata": {},
   "outputs": [],
   "source": [
    "crime18 = pd.read_csv('Crime_by_MSOA.csv', usecols=cols18)"
   ]
  },
  {
   "cell_type": "code",
   "execution_count": 9,
   "metadata": {},
   "outputs": [],
   "source": [
    "monthcols = ['201801', '201802', '201803', '201804', '201805', '201806', '201807', '201808', '201809',\n",
    "         '201810', '201811', '201812']\n",
    "crime18['2018_total'] = crime18[monthcols].sum(axis=1)"
   ]
  },
  {
   "cell_type": "code",
   "execution_count": 10,
   "metadata": {},
   "outputs": [],
   "source": [
    "crime18.drop(columns=monthcols, inplace=True)"
   ]
  },
  {
   "cell_type": "code",
   "execution_count": 11,
   "metadata": {},
   "outputs": [],
   "source": [
    "msoa_total_crime = pd.pivot_table(crime18, index='MSOA11CD', columns='Major Category', values='2018_total')"
   ]
  },
  {
   "cell_type": "code",
   "execution_count": 12,
   "metadata": {},
   "outputs": [],
   "source": [
    "df = pd.merge(msoa_total_crime, pc_change, left_index=True, right_on='MSOA_code').set_index('MSOA_code')"
   ]
  },
  {
   "cell_type": "code",
   "execution_count": null,
   "metadata": {},
   "outputs": [],
   "source": [
    "pop = pd.read_csv('SAPE21DT14a-mid-2018-msoa-on-2019-LA-quinary-estimates-formatted.csv', usecols=['Area Codes', 'MSOA', 'All Ages'])"
   ]
  },
  {
   "cell_type": "code",
   "execution_count": null,
   "metadata": {},
   "outputs": [],
   "source": [
    "pop.head()"
   ]
  },
  {
   "cell_type": "code",
   "execution_count": null,
   "metadata": {},
   "outputs": [],
   "source": [
    "df = pd.merge(df, pop, how='left', left_index=True, right_on='Area Codes')"
   ]
  },
  {
   "cell_type": "code",
   "execution_count": null,
   "metadata": {},
   "outputs": [],
   "source": [
    "df.columns"
   ]
  },
  {
   "cell_type": "code",
   "execution_count": null,
   "metadata": {},
   "outputs": [],
   "source": [
    "crimecols = ['Burglary', 'Criminal Damage', 'Drugs', 'Other Notifiable Offences', 'Robbery', 'Theft and Handling',\n",
    "            'Violence Against the Person']"
   ]
  },
  {
   "cell_type": "code",
   "execution_count": 25,
   "metadata": {},
   "outputs": [],
   "source": [
    "df['All Ages'] = df['All Ages'].str.replace(',','').astype('float64')"
   ]
  },
  {
   "cell_type": "markdown",
   "metadata": {},
   "source": [
    "### Location quotients for different types of crime"
   ]
  },
  {
   "cell_type": "code",
   "execution_count": 13,
   "metadata": {},
   "outputs": [
    {
     "data": {
      "text/html": [
       "<div>\n",
       "<style scoped>\n",
       "    .dataframe tbody tr th:only-of-type {\n",
       "        vertical-align: middle;\n",
       "    }\n",
       "\n",
       "    .dataframe tbody tr th {\n",
       "        vertical-align: top;\n",
       "    }\n",
       "\n",
       "    .dataframe thead th {\n",
       "        text-align: right;\n",
       "    }\n",
       "</style>\n",
       "<table border=\"1\" class=\"dataframe\">\n",
       "  <thead>\n",
       "    <tr style=\"text-align: right;\">\n",
       "      <th></th>\n",
       "      <th>Burglary</th>\n",
       "      <th>Criminal Damage</th>\n",
       "      <th>Drugs</th>\n",
       "      <th>Other Notifiable Offences</th>\n",
       "      <th>Robbery</th>\n",
       "      <th>Theft and Handling</th>\n",
       "      <th>Violence Against the Person</th>\n",
       "      <th>MSOA_name</th>\n",
       "      <th>Total_yearly_income_2018</th>\n",
       "      <th>pc_change_inc</th>\n",
       "    </tr>\n",
       "    <tr>\n",
       "      <th>MSOA_code</th>\n",
       "      <th></th>\n",
       "      <th></th>\n",
       "      <th></th>\n",
       "      <th></th>\n",
       "      <th></th>\n",
       "      <th></th>\n",
       "      <th></th>\n",
       "      <th></th>\n",
       "      <th></th>\n",
       "      <th></th>\n",
       "    </tr>\n",
       "  </thead>\n",
       "  <tbody>\n",
       "    <tr>\n",
       "      <th>E02000001</th>\n",
       "      <td>0.0</td>\n",
       "      <td>0.0</td>\n",
       "      <td>0.0</td>\n",
       "      <td>0.0</td>\n",
       "      <td>0.0</td>\n",
       "      <td>0.0</td>\n",
       "      <td>0.0</td>\n",
       "      <td>City of London 001</td>\n",
       "      <td>65400</td>\n",
       "      <td>18.995633</td>\n",
       "    </tr>\n",
       "    <tr>\n",
       "      <th>E02000002</th>\n",
       "      <td>79.0</td>\n",
       "      <td>59.0</td>\n",
       "      <td>13.0</td>\n",
       "      <td>10.0</td>\n",
       "      <td>22.0</td>\n",
       "      <td>184.0</td>\n",
       "      <td>251.0</td>\n",
       "      <td>Barking and Dagenham 001</td>\n",
       "      <td>39000</td>\n",
       "      <td>39.136639</td>\n",
       "    </tr>\n",
       "    <tr>\n",
       "      <th>E02000003</th>\n",
       "      <td>141.0</td>\n",
       "      <td>92.0</td>\n",
       "      <td>29.0</td>\n",
       "      <td>14.0</td>\n",
       "      <td>38.0</td>\n",
       "      <td>280.0</td>\n",
       "      <td>311.0</td>\n",
       "      <td>Barking and Dagenham 002</td>\n",
       "      <td>47800</td>\n",
       "      <td>44.149578</td>\n",
       "    </tr>\n",
       "    <tr>\n",
       "      <th>E02000004</th>\n",
       "      <td>55.0</td>\n",
       "      <td>29.0</td>\n",
       "      <td>33.0</td>\n",
       "      <td>4.0</td>\n",
       "      <td>13.0</td>\n",
       "      <td>92.0</td>\n",
       "      <td>133.0</td>\n",
       "      <td>Barking and Dagenham 003</td>\n",
       "      <td>43700</td>\n",
       "      <td>29.175288</td>\n",
       "    </tr>\n",
       "    <tr>\n",
       "      <th>E02000005</th>\n",
       "      <td>81.0</td>\n",
       "      <td>58.0</td>\n",
       "      <td>15.0</td>\n",
       "      <td>7.0</td>\n",
       "      <td>35.0</td>\n",
       "      <td>171.0</td>\n",
       "      <td>252.0</td>\n",
       "      <td>Barking and Dagenham 004</td>\n",
       "      <td>44900</td>\n",
       "      <td>50.469169</td>\n",
       "    </tr>\n",
       "  </tbody>\n",
       "</table>\n",
       "</div>"
      ],
      "text/plain": [
       "           Burglary  Criminal Damage  Drugs  Other Notifiable Offences  \\\n",
       "MSOA_code                                                                \n",
       "E02000001       0.0              0.0    0.0                        0.0   \n",
       "E02000002      79.0             59.0   13.0                       10.0   \n",
       "E02000003     141.0             92.0   29.0                       14.0   \n",
       "E02000004      55.0             29.0   33.0                        4.0   \n",
       "E02000005      81.0             58.0   15.0                        7.0   \n",
       "\n",
       "           Robbery  Theft and Handling  Violence Against the Person  \\\n",
       "MSOA_code                                                             \n",
       "E02000001      0.0                 0.0                          0.0   \n",
       "E02000002     22.0               184.0                        251.0   \n",
       "E02000003     38.0               280.0                        311.0   \n",
       "E02000004     13.0                92.0                        133.0   \n",
       "E02000005     35.0               171.0                        252.0   \n",
       "\n",
       "                          MSOA_name  Total_yearly_income_2018  pc_change_inc  \n",
       "MSOA_code                                                                     \n",
       "E02000001        City of London 001                     65400      18.995633  \n",
       "E02000002  Barking and Dagenham 001                     39000      39.136639  \n",
       "E02000003  Barking and Dagenham 002                     47800      44.149578  \n",
       "E02000004  Barking and Dagenham 003                     43700      29.175288  \n",
       "E02000005  Barking and Dagenham 004                     44900      50.469169  "
      ]
     },
     "execution_count": 13,
     "metadata": {},
     "output_type": "execute_result"
    }
   ],
   "source": [
    "df.head()"
   ]
  },
  {
   "cell_type": "code",
   "execution_count": 14,
   "metadata": {},
   "outputs": [],
   "source": [
    "crimecols = ['Burglary', 'Criminal Damage', 'Drugs', 'Other Notifiable Offences', 'Robbery', 'Theft and Handling',\n",
    "            'Violence Against the Person']"
   ]
  },
  {
   "cell_type": "code",
   "execution_count": 15,
   "metadata": {},
   "outputs": [],
   "source": [
    "df['Total_crime'] = df[crimecols].sum(axis=1)"
   ]
  },
  {
   "cell_type": "code",
   "execution_count": 16,
   "metadata": {},
   "outputs": [
    {
     "data": {
      "text/html": [
       "<div>\n",
       "<style scoped>\n",
       "    .dataframe tbody tr th:only-of-type {\n",
       "        vertical-align: middle;\n",
       "    }\n",
       "\n",
       "    .dataframe tbody tr th {\n",
       "        vertical-align: top;\n",
       "    }\n",
       "\n",
       "    .dataframe thead th {\n",
       "        text-align: right;\n",
       "    }\n",
       "</style>\n",
       "<table border=\"1\" class=\"dataframe\">\n",
       "  <thead>\n",
       "    <tr style=\"text-align: right;\">\n",
       "      <th></th>\n",
       "      <th>Burglary</th>\n",
       "      <th>Criminal Damage</th>\n",
       "      <th>Drugs</th>\n",
       "      <th>Other Notifiable Offences</th>\n",
       "      <th>Robbery</th>\n",
       "      <th>Theft and Handling</th>\n",
       "      <th>Violence Against the Person</th>\n",
       "      <th>MSOA_name</th>\n",
       "      <th>Total_yearly_income_2018</th>\n",
       "      <th>pc_change_inc</th>\n",
       "      <th>Total_crime</th>\n",
       "    </tr>\n",
       "    <tr>\n",
       "      <th>MSOA_code</th>\n",
       "      <th></th>\n",
       "      <th></th>\n",
       "      <th></th>\n",
       "      <th></th>\n",
       "      <th></th>\n",
       "      <th></th>\n",
       "      <th></th>\n",
       "      <th></th>\n",
       "      <th></th>\n",
       "      <th></th>\n",
       "      <th></th>\n",
       "    </tr>\n",
       "  </thead>\n",
       "  <tbody>\n",
       "    <tr>\n",
       "      <th>E02000001</th>\n",
       "      <td>0.0</td>\n",
       "      <td>0.0</td>\n",
       "      <td>0.0</td>\n",
       "      <td>0.0</td>\n",
       "      <td>0.0</td>\n",
       "      <td>0.0</td>\n",
       "      <td>0.0</td>\n",
       "      <td>City of London 001</td>\n",
       "      <td>65400</td>\n",
       "      <td>18.995633</td>\n",
       "      <td>0.0</td>\n",
       "    </tr>\n",
       "    <tr>\n",
       "      <th>E02000002</th>\n",
       "      <td>79.0</td>\n",
       "      <td>59.0</td>\n",
       "      <td>13.0</td>\n",
       "      <td>10.0</td>\n",
       "      <td>22.0</td>\n",
       "      <td>184.0</td>\n",
       "      <td>251.0</td>\n",
       "      <td>Barking and Dagenham 001</td>\n",
       "      <td>39000</td>\n",
       "      <td>39.136639</td>\n",
       "      <td>618.0</td>\n",
       "    </tr>\n",
       "    <tr>\n",
       "      <th>E02000003</th>\n",
       "      <td>141.0</td>\n",
       "      <td>92.0</td>\n",
       "      <td>29.0</td>\n",
       "      <td>14.0</td>\n",
       "      <td>38.0</td>\n",
       "      <td>280.0</td>\n",
       "      <td>311.0</td>\n",
       "      <td>Barking and Dagenham 002</td>\n",
       "      <td>47800</td>\n",
       "      <td>44.149578</td>\n",
       "      <td>905.0</td>\n",
       "    </tr>\n",
       "    <tr>\n",
       "      <th>E02000004</th>\n",
       "      <td>55.0</td>\n",
       "      <td>29.0</td>\n",
       "      <td>33.0</td>\n",
       "      <td>4.0</td>\n",
       "      <td>13.0</td>\n",
       "      <td>92.0</td>\n",
       "      <td>133.0</td>\n",
       "      <td>Barking and Dagenham 003</td>\n",
       "      <td>43700</td>\n",
       "      <td>29.175288</td>\n",
       "      <td>359.0</td>\n",
       "    </tr>\n",
       "    <tr>\n",
       "      <th>E02000005</th>\n",
       "      <td>81.0</td>\n",
       "      <td>58.0</td>\n",
       "      <td>15.0</td>\n",
       "      <td>7.0</td>\n",
       "      <td>35.0</td>\n",
       "      <td>171.0</td>\n",
       "      <td>252.0</td>\n",
       "      <td>Barking and Dagenham 004</td>\n",
       "      <td>44900</td>\n",
       "      <td>50.469169</td>\n",
       "      <td>619.0</td>\n",
       "    </tr>\n",
       "  </tbody>\n",
       "</table>\n",
       "</div>"
      ],
      "text/plain": [
       "           Burglary  Criminal Damage  Drugs  Other Notifiable Offences  \\\n",
       "MSOA_code                                                                \n",
       "E02000001       0.0              0.0    0.0                        0.0   \n",
       "E02000002      79.0             59.0   13.0                       10.0   \n",
       "E02000003     141.0             92.0   29.0                       14.0   \n",
       "E02000004      55.0             29.0   33.0                        4.0   \n",
       "E02000005      81.0             58.0   15.0                        7.0   \n",
       "\n",
       "           Robbery  Theft and Handling  Violence Against the Person  \\\n",
       "MSOA_code                                                             \n",
       "E02000001      0.0                 0.0                          0.0   \n",
       "E02000002     22.0               184.0                        251.0   \n",
       "E02000003     38.0               280.0                        311.0   \n",
       "E02000004     13.0                92.0                        133.0   \n",
       "E02000005     35.0               171.0                        252.0   \n",
       "\n",
       "                          MSOA_name  Total_yearly_income_2018  pc_change_inc  \\\n",
       "MSOA_code                                                                      \n",
       "E02000001        City of London 001                     65400      18.995633   \n",
       "E02000002  Barking and Dagenham 001                     39000      39.136639   \n",
       "E02000003  Barking and Dagenham 002                     47800      44.149578   \n",
       "E02000004  Barking and Dagenham 003                     43700      29.175288   \n",
       "E02000005  Barking and Dagenham 004                     44900      50.469169   \n",
       "\n",
       "           Total_crime  \n",
       "MSOA_code               \n",
       "E02000001          0.0  \n",
       "E02000002        618.0  \n",
       "E02000003        905.0  \n",
       "E02000004        359.0  \n",
       "E02000005        619.0  "
      ]
     },
     "execution_count": 16,
     "metadata": {},
     "output_type": "execute_result"
    }
   ],
   "source": [
    "df.head()"
   ]
  },
  {
   "cell_type": "markdown",
   "metadata": {},
   "source": [
    "#### Find proportion of crime for each category in all of London"
   ]
  },
  {
   "cell_type": "code",
   "execution_count": 18,
   "metadata": {},
   "outputs": [],
   "source": [
    "ldn_cat_props = [df[c].sum() / df['Total_crime'].sum() for c in crimecols]"
   ]
  },
  {
   "cell_type": "code",
   "execution_count": 19,
   "metadata": {},
   "outputs": [
    {
     "data": {
      "text/plain": [
       "[0.11829999391684451,\n",
       " 0.07228030187348775,\n",
       " 0.04331330857861485,\n",
       " 0.02011538132073996,\n",
       " 0.040306491720080495,\n",
       " 0.3894597537191047,\n",
       " 0.3162247688711277]"
      ]
     },
     "execution_count": 19,
     "metadata": {},
     "output_type": "execute_result"
    }
   ],
   "source": [
    "ldn_cat_props"
   ]
  },
  {
   "cell_type": "markdown",
   "metadata": {},
   "source": [
    "#### Find proportion of crime in each category for each MSOA"
   ]
  },
  {
   "cell_type": "code",
   "execution_count": 20,
   "metadata": {},
   "outputs": [],
   "source": [
    "for c in crimecols:\n",
    "    df[c] = df[c] / df['Total_crime']"
   ]
  },
  {
   "cell_type": "code",
   "execution_count": 24,
   "metadata": {},
   "outputs": [],
   "source": [
    "df = df.fillna(0)"
   ]
  },
  {
   "cell_type": "markdown",
   "metadata": {},
   "source": [
    "#### Divide proportion of crime for each category per MSOA by citywide proportion of crime in that category"
   ]
  },
  {
   "cell_type": "code",
   "execution_count": 26,
   "metadata": {},
   "outputs": [],
   "source": [
    "for i,c in enumerate(crimecols):\n",
    "    df[c] = df[c] / ldn_cat_props[i]"
   ]
  },
  {
   "cell_type": "code",
   "execution_count": 27,
   "metadata": {},
   "outputs": [
    {
     "data": {
      "text/html": [
       "<div>\n",
       "<style scoped>\n",
       "    .dataframe tbody tr th:only-of-type {\n",
       "        vertical-align: middle;\n",
       "    }\n",
       "\n",
       "    .dataframe tbody tr th {\n",
       "        vertical-align: top;\n",
       "    }\n",
       "\n",
       "    .dataframe thead th {\n",
       "        text-align: right;\n",
       "    }\n",
       "</style>\n",
       "<table border=\"1\" class=\"dataframe\">\n",
       "  <thead>\n",
       "    <tr style=\"text-align: right;\">\n",
       "      <th></th>\n",
       "      <th>Burglary</th>\n",
       "      <th>Criminal Damage</th>\n",
       "      <th>Drugs</th>\n",
       "      <th>Other Notifiable Offences</th>\n",
       "      <th>Robbery</th>\n",
       "      <th>Theft and Handling</th>\n",
       "      <th>Violence Against the Person</th>\n",
       "      <th>MSOA_name</th>\n",
       "      <th>Total_yearly_income_2018</th>\n",
       "      <th>pc_change_inc</th>\n",
       "      <th>Total_crime</th>\n",
       "    </tr>\n",
       "    <tr>\n",
       "      <th>MSOA_code</th>\n",
       "      <th></th>\n",
       "      <th></th>\n",
       "      <th></th>\n",
       "      <th></th>\n",
       "      <th></th>\n",
       "      <th></th>\n",
       "      <th></th>\n",
       "      <th></th>\n",
       "      <th></th>\n",
       "      <th></th>\n",
       "      <th></th>\n",
       "    </tr>\n",
       "  </thead>\n",
       "  <tbody>\n",
       "    <tr>\n",
       "      <th>E02000001</th>\n",
       "      <td>0.000000</td>\n",
       "      <td>0.000000</td>\n",
       "      <td>0.000000</td>\n",
       "      <td>0.000000</td>\n",
       "      <td>0.000000</td>\n",
       "      <td>0.000000</td>\n",
       "      <td>0.000000</td>\n",
       "      <td>City of London 001</td>\n",
       "      <td>65400</td>\n",
       "      <td>18.995633</td>\n",
       "      <td>0.0</td>\n",
       "    </tr>\n",
       "    <tr>\n",
       "      <th>E02000002</th>\n",
       "      <td>1.080572</td>\n",
       "      <td>1.320820</td>\n",
       "      <td>0.485661</td>\n",
       "      <td>0.804421</td>\n",
       "      <td>0.883200</td>\n",
       "      <td>0.764481</td>\n",
       "      <td>1.284368</td>\n",
       "      <td>Barking and Dagenham 001</td>\n",
       "      <td>39000</td>\n",
       "      <td>39.136639</td>\n",
       "      <td>618.0</td>\n",
       "    </tr>\n",
       "    <tr>\n",
       "      <th>E02000003</th>\n",
       "      <td>1.317000</td>\n",
       "      <td>1.406434</td>\n",
       "      <td>0.739823</td>\n",
       "      <td>0.769044</td>\n",
       "      <td>1.041742</td>\n",
       "      <td>0.794414</td>\n",
       "      <td>1.086716</td>\n",
       "      <td>Barking and Dagenham 002</td>\n",
       "      <td>47800</td>\n",
       "      <td>44.149578</td>\n",
       "      <td>905.0</td>\n",
       "    </tr>\n",
       "    <tr>\n",
       "      <th>E02000004</th>\n",
       "      <td>1.295041</td>\n",
       "      <td>1.117593</td>\n",
       "      <td>2.122258</td>\n",
       "      <td>0.553908</td>\n",
       "      <td>0.898409</td>\n",
       "      <td>0.658007</td>\n",
       "      <td>1.171551</td>\n",
       "      <td>Barking and Dagenham 003</td>\n",
       "      <td>43700</td>\n",
       "      <td>29.175288</td>\n",
       "      <td>359.0</td>\n",
       "    </tr>\n",
       "    <tr>\n",
       "      <th>E02000005</th>\n",
       "      <td>1.106139</td>\n",
       "      <td>1.296335</td>\n",
       "      <td>0.559473</td>\n",
       "      <td>0.562185</td>\n",
       "      <td>1.402821</td>\n",
       "      <td>0.709321</td>\n",
       "      <td>1.287401</td>\n",
       "      <td>Barking and Dagenham 004</td>\n",
       "      <td>44900</td>\n",
       "      <td>50.469169</td>\n",
       "      <td>619.0</td>\n",
       "    </tr>\n",
       "  </tbody>\n",
       "</table>\n",
       "</div>"
      ],
      "text/plain": [
       "           Burglary  Criminal Damage     Drugs  Other Notifiable Offences  \\\n",
       "MSOA_code                                                                   \n",
       "E02000001  0.000000         0.000000  0.000000                   0.000000   \n",
       "E02000002  1.080572         1.320820  0.485661                   0.804421   \n",
       "E02000003  1.317000         1.406434  0.739823                   0.769044   \n",
       "E02000004  1.295041         1.117593  2.122258                   0.553908   \n",
       "E02000005  1.106139         1.296335  0.559473                   0.562185   \n",
       "\n",
       "            Robbery  Theft and Handling  Violence Against the Person  \\\n",
       "MSOA_code                                                              \n",
       "E02000001  0.000000            0.000000                     0.000000   \n",
       "E02000002  0.883200            0.764481                     1.284368   \n",
       "E02000003  1.041742            0.794414                     1.086716   \n",
       "E02000004  0.898409            0.658007                     1.171551   \n",
       "E02000005  1.402821            0.709321                     1.287401   \n",
       "\n",
       "                          MSOA_name  Total_yearly_income_2018  pc_change_inc  \\\n",
       "MSOA_code                                                                      \n",
       "E02000001        City of London 001                     65400      18.995633   \n",
       "E02000002  Barking and Dagenham 001                     39000      39.136639   \n",
       "E02000003  Barking and Dagenham 002                     47800      44.149578   \n",
       "E02000004  Barking and Dagenham 003                     43700      29.175288   \n",
       "E02000005  Barking and Dagenham 004                     44900      50.469169   \n",
       "\n",
       "           Total_crime  \n",
       "MSOA_code               \n",
       "E02000001          0.0  \n",
       "E02000002        618.0  \n",
       "E02000003        905.0  \n",
       "E02000004        359.0  \n",
       "E02000005        619.0  "
      ]
     },
     "execution_count": 27,
     "metadata": {},
     "output_type": "execute_result"
    }
   ],
   "source": [
    "df.head()"
   ]
  },
  {
   "cell_type": "code",
   "execution_count": 41,
   "metadata": {},
   "outputs": [
    {
     "data": {
      "text/plain": [
       "<matplotlib.collections.PathCollection at 0x7f1ac0f72410>"
      ]
     },
     "execution_count": 41,
     "metadata": {},
     "output_type": "execute_result"
    },
    {
     "data": {
      "image/png": "[encoded data removed]",
      "text/plain": [
       "<Figure size 432x288 with 1 Axes>"
      ]
     },
     "metadata": {
      "needs_background": "light"
     },
     "output_type": "display_data"
    }
   ],
   "source": [
    "plt.scatter(df['Total_yearly_income_2018'], df['Drugs'])"
   ]
  },
  {
   "cell_type": "code",
   "execution_count": null,
   "metadata": {},
   "outputs": [],
   "source": [
    "df['Violence Against the Person'].plot.hist()"
   ]
  },
  {
   "cell_type": "code",
   "execution_count": 43,
   "metadata": {},
   "outputs": [],
   "source": [
    "df.to_csv('Crime_LQ_income_2018.csv')"
   ]
  },
  {
   "cell_type": "code",
   "execution_count": null,
   "metadata": {},
   "outputs": [],
   "source": []
  }
 ],
 "metadata": {
  "kernelspec": {
   "display_name": "Python 3",
   "language": "python",
   "name": "python3"
  },
  "language_info": {
   "codemirror_mode": {
    "name": "ipython",
    "version": 3
   },
   "file_extension": ".py",
   "mimetype": "text/x-python",
   "name": "python",
   "nbconvert_exporter": "python",
   "pygments_lexer": "ipython3",
   "version": "3.7.8"
  }
 },
 "nbformat": 4,
 "nbformat_minor": 4
}
