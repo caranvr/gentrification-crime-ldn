{
 "cells": [
  {
   "cell_type": "code",
   "execution_count": 1,
   "metadata": {},
   "outputs": [],
   "source": [
    "import os\n",
    "import numpy as np\n",
    "import pandas as pd\n",
    "import geopandas as gpd\n",
    "import seaborn as sns\n",
    "import re\n",
    "\n",
    "import matplotlib.cm as cm\n",
    "import matplotlib.pyplot as plt\n",
    "# df.sample(3, random_state=42)"
   ]
  },
  {
   "cell_type": "code",
   "execution_count": 2,
   "metadata": {},
   "outputs": [
    {
     "data": {
      "text/plain": [
       "(121672, 136)"
      ]
     },
     "execution_count": 2,
     "metadata": {},
     "output_type": "execute_result"
    }
   ],
   "source": [
    "df = pd.read_csv('raw/MPS_LSOA_Level_Crime_Historic.csv')\n",
    "df.shape"
   ]
  },
  {
   "cell_type": "code",
   "execution_count": 3,
   "metadata": {},
   "outputs": [
    {
     "data": {
      "text/plain": [
       "(227759, 18)"
      ]
     },
     "execution_count": 3,
     "metadata": {},
     "output_type": "execute_result"
    }
   ],
   "source": [
    "msoa_nms = pd.read_csv('raw/Output_Area_to_LSOA_to_MSOA_to_Local_Authority_District_(December_2017)_Lookup_with_Area_Classifications_in_Great_Britain.csv')\n",
    "msoa_nms.shape"
   ]
  },
  {
   "cell_type": "code",
   "execution_count": 4,
   "metadata": {},
   "outputs": [
    {
     "data": {
      "text/plain": [
       "array(['Violence Against the Person', 'Burglary', 'Criminal Damage',\n",
       "       'Drugs', 'Theft and Handling', 'Other Notifiable Offences',\n",
       "       'Robbery'], dtype=object)"
      ]
     },
     "execution_count": 4,
     "metadata": {},
     "output_type": "execute_result"
    }
   ],
   "source": [
    "df['Major Category'].unique()"
   ]
  },
  {
   "cell_type": "code",
   "execution_count": 5,
   "metadata": {},
   "outputs": [],
   "source": [
    "monthcols = [c for c in df.columns.values if re.search('\\d{6}', c)]\n",
    "\n",
    "month_agg = {}\n",
    "\n",
    "for m in monthcols:\n",
    "    month_agg[m] = 'sum'"
   ]
  },
  {
   "cell_type": "code",
   "execution_count": 6,
   "metadata": {},
   "outputs": [],
   "source": [
    "msoa_nms.drop(columns=['OA11CD', 'OAC11CD', 'OAC11NM', 'SOAC11CD',\n",
    "       'SOAC11NM', 'LAD17CD', 'LAD17NM', 'LACCD',\n",
    "       'LACNM', 'RGN11CD', 'RGN11NM', 'CTRY11CD', 'CTRY11NM', 'FID'], inplace=True)"
   ]
  },
  {
   "cell_type": "code",
   "execution_count": 7,
   "metadata": {},
   "outputs": [],
   "source": [
    "msoa_nms.drop_duplicates(subset=['LSOA11CD', 'LSOA11NM'], inplace=True)"
   ]
  },
  {
   "cell_type": "code",
   "execution_count": 8,
   "metadata": {},
   "outputs": [
    {
     "data": {
      "text/plain": [
       "(41729, 4)"
      ]
     },
     "execution_count": 8,
     "metadata": {},
     "output_type": "execute_result"
    }
   ],
   "source": [
    "msoa_nms.shape"
   ]
  },
  {
   "cell_type": "code",
   "execution_count": 9,
   "metadata": {},
   "outputs": [
    {
     "data": {
      "text/plain": [
       "41729"
      ]
     },
     "execution_count": 9,
     "metadata": {},
     "output_type": "execute_result"
    }
   ],
   "source": [
    "msoa_nms['LSOA11CD'].nunique()"
   ]
  },
  {
   "cell_type": "code",
   "execution_count": 10,
   "metadata": {},
   "outputs": [],
   "source": [
    "msoas = pd.merge(df, msoa_nms, left_on='LSOA Code', right_on='LSOA11CD', how='left')"
   ]
  },
  {
   "cell_type": "code",
   "execution_count": 11,
   "metadata": {},
   "outputs": [
    {
     "data": {
      "text/plain": [
       "(121672, 140)"
      ]
     },
     "execution_count": 11,
     "metadata": {},
     "output_type": "execute_result"
    }
   ],
   "source": [
    "msoas.shape"
   ]
  },
  {
   "cell_type": "code",
   "execution_count": 12,
   "metadata": {},
   "outputs": [],
   "source": [
    "msoas_by_category = msoas.groupby(['MSOA11CD', 'Major Category'], as_index=False).agg(month_agg)"
   ]
  },
  {
   "cell_type": "code",
   "execution_count": 13,
   "metadata": {},
   "outputs": [
    {
     "data": {
      "text/plain": [
       "array(['Violence Against the Person', 'Burglary', 'Criminal Damage',\n",
       "       'Drugs', 'Theft and Handling', 'Other Notifiable Offences',\n",
       "       'Robbery'], dtype=object)"
      ]
     },
     "execution_count": 13,
     "metadata": {},
     "output_type": "execute_result"
    }
   ],
   "source": [
    "msoas['Major Category'].unique()"
   ]
  },
  {
   "cell_type": "code",
   "execution_count": 13,
   "metadata": {},
   "outputs": [
    {
     "name": "stdout",
     "output_type": "stream",
     "text": [
      "Done.\n"
     ]
    }
   ],
   "source": [
    "msoas_by_category.to_csv('processed/Crime_by_MSOA.csv', index=False)\n",
    "print(\"Done.\")"
   ]
  },
  {
   "cell_type": "code",
   "execution_count": 14,
   "metadata": {},
   "outputs": [
    {
     "data": {
      "text/html": [
       "<div>\n",
       "<style scoped>\n",
       "    .dataframe tbody tr th:only-of-type {\n",
       "        vertical-align: middle;\n",
       "    }\n",
       "\n",
       "    .dataframe tbody tr th {\n",
       "        vertical-align: top;\n",
       "    }\n",
       "\n",
       "    .dataframe thead tr th {\n",
       "        text-align: left;\n",
       "    }\n",
       "\n",
       "    .dataframe thead tr:last-of-type th {\n",
       "        text-align: right;\n",
       "    }\n",
       "</style>\n",
       "<table border=\"1\" class=\"dataframe\">\n",
       "  <thead>\n",
       "    <tr>\n",
       "      <th></th>\n",
       "      <th colspan=\"7\" halign=\"left\">200801</th>\n",
       "      <th colspan=\"3\" halign=\"left\">200802</th>\n",
       "      <th>...</th>\n",
       "      <th colspan=\"3\" halign=\"left\">201811</th>\n",
       "      <th colspan=\"7\" halign=\"left\">201812</th>\n",
       "    </tr>\n",
       "    <tr>\n",
       "      <th>Major Category</th>\n",
       "      <th>Burglary</th>\n",
       "      <th>Criminal Damage</th>\n",
       "      <th>Drugs</th>\n",
       "      <th>Other Notifiable Offences</th>\n",
       "      <th>Robbery</th>\n",
       "      <th>Theft and Handling</th>\n",
       "      <th>Violence Against the Person</th>\n",
       "      <th>Burglary</th>\n",
       "      <th>Criminal Damage</th>\n",
       "      <th>Drugs</th>\n",
       "      <th>...</th>\n",
       "      <th>Robbery</th>\n",
       "      <th>Theft and Handling</th>\n",
       "      <th>Violence Against the Person</th>\n",
       "      <th>Burglary</th>\n",
       "      <th>Criminal Damage</th>\n",
       "      <th>Drugs</th>\n",
       "      <th>Other Notifiable Offences</th>\n",
       "      <th>Robbery</th>\n",
       "      <th>Theft and Handling</th>\n",
       "      <th>Violence Against the Person</th>\n",
       "    </tr>\n",
       "    <tr>\n",
       "      <th>MSOA11CD</th>\n",
       "      <th></th>\n",
       "      <th></th>\n",
       "      <th></th>\n",
       "      <th></th>\n",
       "      <th></th>\n",
       "      <th></th>\n",
       "      <th></th>\n",
       "      <th></th>\n",
       "      <th></th>\n",
       "      <th></th>\n",
       "      <th></th>\n",
       "      <th></th>\n",
       "      <th></th>\n",
       "      <th></th>\n",
       "      <th></th>\n",
       "      <th></th>\n",
       "      <th></th>\n",
       "      <th></th>\n",
       "      <th></th>\n",
       "      <th></th>\n",
       "      <th></th>\n",
       "    </tr>\n",
       "  </thead>\n",
       "  <tbody>\n",
       "    <tr>\n",
       "      <th>E02000001</th>\n",
       "      <td>0</td>\n",
       "      <td>0</td>\n",
       "      <td>0</td>\n",
       "      <td>0</td>\n",
       "      <td>0</td>\n",
       "      <td>0</td>\n",
       "      <td>0</td>\n",
       "      <td>0</td>\n",
       "      <td>0</td>\n",
       "      <td>0</td>\n",
       "      <td>...</td>\n",
       "      <td>0.0</td>\n",
       "      <td>0.0</td>\n",
       "      <td>0.0</td>\n",
       "      <td>0.0</td>\n",
       "      <td>0.0</td>\n",
       "      <td>0.0</td>\n",
       "      <td>0.0</td>\n",
       "      <td>0.0</td>\n",
       "      <td>0.0</td>\n",
       "      <td>0.0</td>\n",
       "    </tr>\n",
       "    <tr>\n",
       "      <th>E02000002</th>\n",
       "      <td>2</td>\n",
       "      <td>28</td>\n",
       "      <td>3</td>\n",
       "      <td>0</td>\n",
       "      <td>0</td>\n",
       "      <td>13</td>\n",
       "      <td>15</td>\n",
       "      <td>5</td>\n",
       "      <td>18</td>\n",
       "      <td>5</td>\n",
       "      <td>...</td>\n",
       "      <td>3.0</td>\n",
       "      <td>12.0</td>\n",
       "      <td>24.0</td>\n",
       "      <td>3.0</td>\n",
       "      <td>5.0</td>\n",
       "      <td>0.0</td>\n",
       "      <td>1.0</td>\n",
       "      <td>1.0</td>\n",
       "      <td>18.0</td>\n",
       "      <td>24.0</td>\n",
       "    </tr>\n",
       "    <tr>\n",
       "      <th>E02000003</th>\n",
       "      <td>12</td>\n",
       "      <td>20</td>\n",
       "      <td>5</td>\n",
       "      <td>0</td>\n",
       "      <td>4</td>\n",
       "      <td>26</td>\n",
       "      <td>17</td>\n",
       "      <td>11</td>\n",
       "      <td>7</td>\n",
       "      <td>11</td>\n",
       "      <td>...</td>\n",
       "      <td>5.0</td>\n",
       "      <td>21.0</td>\n",
       "      <td>37.0</td>\n",
       "      <td>9.0</td>\n",
       "      <td>4.0</td>\n",
       "      <td>1.0</td>\n",
       "      <td>1.0</td>\n",
       "      <td>3.0</td>\n",
       "      <td>18.0</td>\n",
       "      <td>26.0</td>\n",
       "    </tr>\n",
       "    <tr>\n",
       "      <th>E02000004</th>\n",
       "      <td>2</td>\n",
       "      <td>9</td>\n",
       "      <td>0</td>\n",
       "      <td>0</td>\n",
       "      <td>0</td>\n",
       "      <td>11</td>\n",
       "      <td>15</td>\n",
       "      <td>4</td>\n",
       "      <td>3</td>\n",
       "      <td>1</td>\n",
       "      <td>...</td>\n",
       "      <td>2.0</td>\n",
       "      <td>11.0</td>\n",
       "      <td>12.0</td>\n",
       "      <td>3.0</td>\n",
       "      <td>5.0</td>\n",
       "      <td>3.0</td>\n",
       "      <td>0.0</td>\n",
       "      <td>0.0</td>\n",
       "      <td>5.0</td>\n",
       "      <td>10.0</td>\n",
       "    </tr>\n",
       "    <tr>\n",
       "      <th>E02000005</th>\n",
       "      <td>7</td>\n",
       "      <td>7</td>\n",
       "      <td>5</td>\n",
       "      <td>1</td>\n",
       "      <td>1</td>\n",
       "      <td>13</td>\n",
       "      <td>17</td>\n",
       "      <td>5</td>\n",
       "      <td>10</td>\n",
       "      <td>0</td>\n",
       "      <td>...</td>\n",
       "      <td>4.0</td>\n",
       "      <td>15.0</td>\n",
       "      <td>24.0</td>\n",
       "      <td>22.0</td>\n",
       "      <td>3.0</td>\n",
       "      <td>2.0</td>\n",
       "      <td>1.0</td>\n",
       "      <td>3.0</td>\n",
       "      <td>14.0</td>\n",
       "      <td>20.0</td>\n",
       "    </tr>\n",
       "    <tr>\n",
       "      <th>...</th>\n",
       "      <td>...</td>\n",
       "      <td>...</td>\n",
       "      <td>...</td>\n",
       "      <td>...</td>\n",
       "      <td>...</td>\n",
       "      <td>...</td>\n",
       "      <td>...</td>\n",
       "      <td>...</td>\n",
       "      <td>...</td>\n",
       "      <td>...</td>\n",
       "      <td>...</td>\n",
       "      <td>...</td>\n",
       "      <td>...</td>\n",
       "      <td>...</td>\n",
       "      <td>...</td>\n",
       "      <td>...</td>\n",
       "      <td>...</td>\n",
       "      <td>...</td>\n",
       "      <td>...</td>\n",
       "      <td>...</td>\n",
       "      <td>...</td>\n",
       "    </tr>\n",
       "    <tr>\n",
       "      <th>E02006927</th>\n",
       "      <td>6</td>\n",
       "      <td>2</td>\n",
       "      <td>3</td>\n",
       "      <td>0</td>\n",
       "      <td>0</td>\n",
       "      <td>12</td>\n",
       "      <td>7</td>\n",
       "      <td>7</td>\n",
       "      <td>5</td>\n",
       "      <td>2</td>\n",
       "      <td>...</td>\n",
       "      <td>2.0</td>\n",
       "      <td>15.0</td>\n",
       "      <td>18.0</td>\n",
       "      <td>16.0</td>\n",
       "      <td>5.0</td>\n",
       "      <td>0.0</td>\n",
       "      <td>0.0</td>\n",
       "      <td>2.0</td>\n",
       "      <td>21.0</td>\n",
       "      <td>28.0</td>\n",
       "    </tr>\n",
       "    <tr>\n",
       "      <th>E02006928</th>\n",
       "      <td>2</td>\n",
       "      <td>5</td>\n",
       "      <td>1</td>\n",
       "      <td>0</td>\n",
       "      <td>4</td>\n",
       "      <td>10</td>\n",
       "      <td>10</td>\n",
       "      <td>1</td>\n",
       "      <td>3</td>\n",
       "      <td>0</td>\n",
       "      <td>...</td>\n",
       "      <td>1.0</td>\n",
       "      <td>44.0</td>\n",
       "      <td>28.0</td>\n",
       "      <td>17.0</td>\n",
       "      <td>14.0</td>\n",
       "      <td>0.0</td>\n",
       "      <td>3.0</td>\n",
       "      <td>8.0</td>\n",
       "      <td>31.0</td>\n",
       "      <td>29.0</td>\n",
       "    </tr>\n",
       "    <tr>\n",
       "      <th>E02006929</th>\n",
       "      <td>8</td>\n",
       "      <td>7</td>\n",
       "      <td>9</td>\n",
       "      <td>1</td>\n",
       "      <td>4</td>\n",
       "      <td>50</td>\n",
       "      <td>17</td>\n",
       "      <td>15</td>\n",
       "      <td>11</td>\n",
       "      <td>8</td>\n",
       "      <td>...</td>\n",
       "      <td>4.0</td>\n",
       "      <td>101.0</td>\n",
       "      <td>69.0</td>\n",
       "      <td>26.0</td>\n",
       "      <td>10.0</td>\n",
       "      <td>4.0</td>\n",
       "      <td>2.0</td>\n",
       "      <td>3.0</td>\n",
       "      <td>82.0</td>\n",
       "      <td>62.0</td>\n",
       "    </tr>\n",
       "    <tr>\n",
       "      <th>E02006930</th>\n",
       "      <td>5</td>\n",
       "      <td>4</td>\n",
       "      <td>7</td>\n",
       "      <td>1</td>\n",
       "      <td>4</td>\n",
       "      <td>31</td>\n",
       "      <td>4</td>\n",
       "      <td>14</td>\n",
       "      <td>6</td>\n",
       "      <td>1</td>\n",
       "      <td>...</td>\n",
       "      <td>2.0</td>\n",
       "      <td>37.0</td>\n",
       "      <td>25.0</td>\n",
       "      <td>19.0</td>\n",
       "      <td>2.0</td>\n",
       "      <td>2.0</td>\n",
       "      <td>1.0</td>\n",
       "      <td>0.0</td>\n",
       "      <td>36.0</td>\n",
       "      <td>29.0</td>\n",
       "    </tr>\n",
       "    <tr>\n",
       "      <th>E02006931</th>\n",
       "      <td>9</td>\n",
       "      <td>6</td>\n",
       "      <td>8</td>\n",
       "      <td>1</td>\n",
       "      <td>6</td>\n",
       "      <td>37</td>\n",
       "      <td>19</td>\n",
       "      <td>20</td>\n",
       "      <td>8</td>\n",
       "      <td>11</td>\n",
       "      <td>...</td>\n",
       "      <td>1.0</td>\n",
       "      <td>47.0</td>\n",
       "      <td>23.0</td>\n",
       "      <td>29.0</td>\n",
       "      <td>11.0</td>\n",
       "      <td>2.0</td>\n",
       "      <td>1.0</td>\n",
       "      <td>3.0</td>\n",
       "      <td>26.0</td>\n",
       "      <td>33.0</td>\n",
       "    </tr>\n",
       "  </tbody>\n",
       "</table>\n",
       "<p>983 rows × 924 columns</p>\n",
       "</div>"
      ],
      "text/plain": [
       "                 200801                                                  \\\n",
       "Major Category Burglary Criminal Damage Drugs Other Notifiable Offences   \n",
       "MSOA11CD                                                                  \n",
       "E02000001             0               0     0                         0   \n",
       "E02000002             2              28     3                         0   \n",
       "E02000003            12              20     5                         0   \n",
       "E02000004             2               9     0                         0   \n",
       "E02000005             7               7     5                         1   \n",
       "...                 ...             ...   ...                       ...   \n",
       "E02006927             6               2     3                         0   \n",
       "E02006928             2               5     1                         0   \n",
       "E02006929             8               7     9                         1   \n",
       "E02006930             5               4     7                         1   \n",
       "E02006931             9               6     8                         1   \n",
       "\n",
       "                                                                       \\\n",
       "Major Category Robbery Theft and Handling Violence Against the Person   \n",
       "MSOA11CD                                                                \n",
       "E02000001            0                  0                           0   \n",
       "E02000002            0                 13                          15   \n",
       "E02000003            4                 26                          17   \n",
       "E02000004            0                 11                          15   \n",
       "E02000005            1                 13                          17   \n",
       "...                ...                ...                         ...   \n",
       "E02006927            0                 12                           7   \n",
       "E02006928            4                 10                          10   \n",
       "E02006929            4                 50                          17   \n",
       "E02006930            4                 31                           4   \n",
       "E02006931            6                 37                          19   \n",
       "\n",
       "                 200802                        ...  201811                     \\\n",
       "Major Category Burglary Criminal Damage Drugs  ... Robbery Theft and Handling   \n",
       "MSOA11CD                                       ...                              \n",
       "E02000001             0               0     0  ...     0.0                0.0   \n",
       "E02000002             5              18     5  ...     3.0               12.0   \n",
       "E02000003            11               7    11  ...     5.0               21.0   \n",
       "E02000004             4               3     1  ...     2.0               11.0   \n",
       "E02000005             5              10     0  ...     4.0               15.0   \n",
       "...                 ...             ...   ...  ...     ...                ...   \n",
       "E02006927             7               5     2  ...     2.0               15.0   \n",
       "E02006928             1               3     0  ...     1.0               44.0   \n",
       "E02006929            15              11     8  ...     4.0              101.0   \n",
       "E02006930            14               6     1  ...     2.0               37.0   \n",
       "E02006931            20               8    11  ...     1.0               47.0   \n",
       "\n",
       "                                             201812                        \\\n",
       "Major Category Violence Against the Person Burglary Criminal Damage Drugs   \n",
       "MSOA11CD                                                                    \n",
       "E02000001                              0.0      0.0             0.0   0.0   \n",
       "E02000002                             24.0      3.0             5.0   0.0   \n",
       "E02000003                             37.0      9.0             4.0   1.0   \n",
       "E02000004                             12.0      3.0             5.0   3.0   \n",
       "E02000005                             24.0     22.0             3.0   2.0   \n",
       "...                                    ...      ...             ...   ...   \n",
       "E02006927                             18.0     16.0             5.0   0.0   \n",
       "E02006928                             28.0     17.0            14.0   0.0   \n",
       "E02006929                             69.0     26.0            10.0   4.0   \n",
       "E02006930                             25.0     19.0             2.0   2.0   \n",
       "E02006931                             23.0     29.0            11.0   2.0   \n",
       "\n",
       "                                                                     \\\n",
       "Major Category Other Notifiable Offences Robbery Theft and Handling   \n",
       "MSOA11CD                                                              \n",
       "E02000001                            0.0     0.0                0.0   \n",
       "E02000002                            1.0     1.0               18.0   \n",
       "E02000003                            1.0     3.0               18.0   \n",
       "E02000004                            0.0     0.0                5.0   \n",
       "E02000005                            1.0     3.0               14.0   \n",
       "...                                  ...     ...                ...   \n",
       "E02006927                            0.0     2.0               21.0   \n",
       "E02006928                            3.0     8.0               31.0   \n",
       "E02006929                            2.0     3.0               82.0   \n",
       "E02006930                            1.0     0.0               36.0   \n",
       "E02006931                            1.0     3.0               26.0   \n",
       "\n",
       "                                            \n",
       "Major Category Violence Against the Person  \n",
       "MSOA11CD                                    \n",
       "E02000001                              0.0  \n",
       "E02000002                             24.0  \n",
       "E02000003                             26.0  \n",
       "E02000004                             10.0  \n",
       "E02000005                             20.0  \n",
       "...                                    ...  \n",
       "E02006927                             28.0  \n",
       "E02006928                             29.0  \n",
       "E02006929                             62.0  \n",
       "E02006930                             29.0  \n",
       "E02006931                             33.0  \n",
       "\n",
       "[983 rows x 924 columns]"
      ]
     },
     "execution_count": 14,
     "metadata": {},
     "output_type": "execute_result"
    }
   ],
   "source": [
    "pd.pivot_table(msoas_by_category,\n",
    "              index='MSOA11CD',\n",
    "              columns='Major Category')"
   ]
  },
  {
   "cell_type": "code",
   "execution_count": null,
   "metadata": {},
   "outputs": [],
   "source": []
  }
 ],
 "metadata": {
  "kernelspec": {
   "display_name": "Python 3",
   "language": "python",
   "name": "python3"
  },
  "language_info": {
   "codemirror_mode": {
    "name": "ipython",
    "version": 3
   },
   "file_extension": ".py",
   "mimetype": "text/x-python",
   "name": "python",
   "nbconvert_exporter": "python",
   "pygments_lexer": "ipython3",
   "version": "3.7.8"
  }
 },
 "nbformat": 4,
 "nbformat_minor": 4
}
